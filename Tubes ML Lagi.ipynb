{
  "nbformat": 4,
  "nbformat_minor": 0,
  "metadata": {
    "colab": {
      "name": "Tubes_ML.ipynb",
      "provenance": []
    },
    "kernelspec": {
      "name": "python3",
      "display_name": "Python 3"
    }
  },
  "cells": [
    {
      "cell_type": "markdown",
      "metadata": {
        "id": "qWlMf5NpdS95"
      },
      "source": [
        "<h3>Upload Data</h3>"
      ]
    },
    {
      "cell_type": "code",
      "metadata": {
        "id": "G8ou0ROqg-Ku",
        "colab": {
          "base_uri": "https://localhost:8080/"
        },
        "outputId": "5028fcc5-405c-4b3a-9084-405dbb45d589"
      },
      "source": [
        "from google.colab import drive\n",
        "drive.mount('/content/drive')"
      ],
      "execution_count": null,
      "outputs": [
        {
          "output_type": "stream",
          "name": "stdout",
          "text": [
            "Mounted at /content/drive\n"
          ]
        }
      ]
    },
    {
      "cell_type": "code",
      "metadata": {
        "id": "15adeIveZoh4"
      },
      "source": [
        "import os\n",
        "os.environ['KAGGLE_CONFIG_DIR'] = \"/content/drive/MyDrive/trying\""
      ],
      "execution_count": null,
      "outputs": []
    },
    {
      "cell_type": "code",
      "metadata": {
        "colab": {
          "base_uri": "https://localhost:8080/"
        },
        "id": "YkxSbpZcaK6-",
        "outputId": "add4f6a7-d59c-4cbe-bb9f-124b8e868dc5"
      },
      "source": [
        "%cd /content/drive/MyDrive/trying\n",
        "!ls -a"
      ],
      "execution_count": null,
      "outputs": [
        {
          "output_type": "stream",
          "name": "stdout",
          "text": [
            "/content/drive/MyDrive/trying\n",
            "Untitled2.ipynb\n"
          ]
        }
      ]
    },
    {
      "cell_type": "code",
      "metadata": {
        "colab": {
          "base_uri": "https://localhost:8080/"
        },
        "id": "qiL1eIdPhb39",
        "outputId": "38e2efd7-bb21-4d87-a4ed-bc06bff885c0"
      },
      "source": [
        "!kaggle datasets download -d sartajbhuvaji/brain-tumor-classification-mri"
      ],
      "execution_count": null,
      "outputs": [
        {
          "output_type": "stream",
          "name": "stdout",
          "text": [
            "brain-tumor-classification-mri.zip: Skipping, found more recently modified local copy (use --force to force download)\n"
          ]
        }
      ]
    },
    {
      "cell_type": "code",
      "metadata": {
        "id": "XZYMGaZahcWj"
      },
      "source": [
        "import os\n",
        "import zipfile\n",
        "\n",
        "local_zip = 'brain-tumor-classification-mri.zip'\n",
        "zip_ref = zipfile.ZipFile(local_zip, 'r')\n",
        "zip_ref.extractall('/tmp')\n",
        "zip_ref.close()"
      ],
      "execution_count": null,
      "outputs": []
    },
    {
      "cell_type": "code",
      "metadata": {
        "colab": {
          "base_uri": "https://localhost:8080/"
        },
        "id": "vmt09zMolETc",
        "outputId": "4c8a1e38-68d7-4660-d205-495015cda6ee"
      },
      "source": [
        "%cd '/tmp/'\n",
        "!ls -a"
      ],
      "execution_count": null,
      "outputs": [
        {
          "output_type": "stream",
          "name": "stdout",
          "text": [
            "/tmp\n",
            ".\n",
            "..\n",
            "dap_multiplexer.89def72c6365.root.log.INFO.20211101-024717.57\n",
            "dap_multiplexer.INFO\n",
            "debugger_12wenpu1mf\n",
            "drivefs_ipc.0\n",
            "drivefs_ipc.0_shell\n",
            "initgoogle_syslog_dir.0\n",
            "Testing\n",
            "tmppe3u_uj7\n",
            "Training\n"
          ]
        }
      ]
    },
    {
      "cell_type": "code",
      "metadata": {
        "id": "vvDJiBi7hyFg"
      },
      "source": [
        "train_dir = '/tmp/Training'\n",
        "gli_train_dir = train_dir + '/glioma_tumor'\n",
        "men_train_dir = train_dir + '/meningioma_tumor'\n",
        "no_train_dir  = train_dir + '/no_tumor'\n",
        "pit_train_dir = train_dir + '/pituitary_tumor'\n",
        "\n",
        "test_dir = '/tmp/Testing'\n",
        "gli_test_dir = test_dir + '/glioma_tumor'\n",
        "men_test_dir = test_dir + '/meningioma_tumor'\n",
        "no_test_dir  = test_dir + '/no_tumor'\n",
        "pit_test_dir = test_dir + '/pituitary_tumor'"
      ],
      "execution_count": null,
      "outputs": []
    },
    {
      "cell_type": "code",
      "metadata": {
        "colab": {
          "base_uri": "https://localhost:8080/"
        },
        "id": "HhA9SLSNlJgZ",
        "outputId": "3268908e-2568-455e-f4d0-69ef2bab90b6"
      },
      "source": [
        "print(\"Training\")\n",
        "print(\"Total Training Glioma Tumor     :\", len(os.listdir(gli_train_dir)))\n",
        "print(\"Total Training Meningioma Tumor :\", len(os.listdir(men_train_dir)))\n",
        "print(\"Total Training No Tumor         :\", len(os.listdir(no_train_dir)))\n",
        "print(\"Total Training Pituitary_Tumor  :\", len(os.listdir(pit_train_dir)))\n",
        "print(\"Testing\")\n",
        "print(\"Total Testing Glioma Tumor     :\", len(os.listdir(gli_test_dir)))\n",
        "print(\"Total Testing Meningioma Tumor :\", len(os.listdir(men_test_dir)))\n",
        "print(\"Total Testing No Tumor         :\", len(os.listdir(no_test_dir)))\n",
        "print(\"Total Testing Pituitary_Tumor  :\", len(os.listdir(pit_test_dir)))"
      ],
      "execution_count": null,
      "outputs": [
        {
          "output_type": "stream",
          "name": "stdout",
          "text": [
            "Training\n",
            "Total Training Glioma Tumor     : 826\n",
            "Total Training Meningioma Tumor : 822\n",
            "Total Training No Tumor         : 395\n",
            "Total Training Pituitary_Tumor  : 827\n",
            "Testing\n",
            "Total Testing Glioma Tumor     : 100\n",
            "Total Testing Meningioma Tumor : 115\n",
            "Total Testing No Tumor         : 105\n",
            "Total Testing Pituitary_Tumor  : 74\n"
          ]
        }
      ]
    },
    {
      "cell_type": "code",
      "metadata": {
        "id": "Yc_nhRQylNwA"
      },
      "source": [
        "import cv2\n",
        "import numpy as np"
      ],
      "execution_count": null,
      "outputs": []
    },
    {
      "cell_type": "code",
      "metadata": {
        "id": "9gGJQOhLlQGd"
      },
      "source": [
        "def gather_data(data_dir):\n",
        "    dir_data = []\n",
        "    dir_label = []\n",
        "\n",
        "    for dirpath, dirnames, filenames in os.walk(data_dir):\n",
        "        for file in filenames:\n",
        "            if \".jpg\" in file:\n",
        "                imagePath = os.path.join(dirpath, file)\n",
        "                image = cv2.imread(imagePath)\n",
        "                image = cv2.resize(image, (150,150))\n",
        "                dir_data.append(image)\n",
        "                label = imagePath.split(os.path.sep)[-2]\n",
        "                dir_label.append(label)\n",
        "\n",
        "    dir_data = np.array(dir_data)\n",
        "    dir_label = np.array(dir_label)\n",
        "\n",
        "    return dir_data, dir_label"
      ],
      "execution_count": null,
      "outputs": []
    },
    {
      "cell_type": "markdown",
      "metadata": {
        "id": "D-0PLeKvdHv1"
      },
      "source": [
        "<h3>Data Preprocessing</h3>"
      ]
    },
    {
      "cell_type": "code",
      "metadata": {
        "id": "B-9vAhRPlRhB"
      },
      "source": [
        "train_data, train_label = gather_data(train_dir) # Gather data train\n",
        "test_data, test_label = gather_data(test_dir) # Gather data test"
      ],
      "execution_count": null,
      "outputs": []
    },
    {
      "cell_type": "code",
      "metadata": {
        "colab": {
          "base_uri": "https://localhost:8080/"
        },
        "id": "iQNvmOKklTPx",
        "outputId": "e7acd62c-6a4d-4133-f654-bfea86fe36d7"
      },
      "source": [
        "print(\"Train Data  = \", train_data.shape)\n",
        "print(\"Train Label = \", train_label.shape)\n",
        "print(\"Test Data   = \", test_data.shape)\n",
        "print(\"Test Label  = \", test_label.shape)"
      ],
      "execution_count": null,
      "outputs": [
        {
          "output_type": "stream",
          "name": "stdout",
          "text": [
            "Train Data  =  (2870, 150, 150, 3)\n",
            "Train Label =  (2870,)\n",
            "Test Data   =  (394, 150, 150, 3)\n",
            "Test Label  =  (394,)\n"
          ]
        }
      ]
    },
    {
      "cell_type": "code",
      "metadata": {
        "colab": {
          "base_uri": "https://localhost:8080/"
        },
        "id": "_y-1ABMqlVxt",
        "outputId": "78b81c71-11cf-4ead-eb38-4e720d2cf123"
      },
      "source": [
        "print(\"Data sebelum di-normalisasi \", test_data[0][0][0])\n",
        "\n",
        "x_test = test_data.astype('float32') / 255.0\n",
        "x_train = train_data.astype('float32') / 255.0\n",
        "print(\"Data setelah di-normalisasi \", x_test[0][0][0])"
      ],
      "execution_count": null,
      "outputs": [
        {
          "output_type": "stream",
          "name": "stdout",
          "text": [
            "Data sebelum di-normalisasi  [0 0 0]\n",
            "Data setelah di-normalisasi  [0. 0. 0.]\n"
          ]
        }
      ]
    },
    {
      "cell_type": "code",
      "metadata": {
        "colab": {
          "base_uri": "https://localhost:8080/"
        },
        "id": "sjcPv2j_lXst",
        "outputId": "53d023b4-ec94-463d-9626-5f71262a457e"
      },
      "source": [
        "from sklearn.preprocessing import LabelEncoder\n",
        "\n",
        "print(\"Label sebelum di-encoder \", train_label[995:1005])\n",
        "\n",
        "lb = LabelEncoder()\n",
        "y_train = lb.fit_transform(train_label)\n",
        "y_test = lb.fit_transform(test_label)\n",
        "\n",
        "print(\"Label setelah di-encoder \", y_train[995:1005])"
      ],
      "execution_count": null,
      "outputs": [
        {
          "output_type": "stream",
          "name": "stdout",
          "text": [
            "Label sebelum di-encoder  ['no_tumor' 'no_tumor' 'no_tumor' 'no_tumor' 'no_tumor' 'no_tumor'\n",
            " 'no_tumor' 'no_tumor' 'no_tumor' 'no_tumor']\n",
            "Label setelah di-encoder  [2 2 2 2 2 2 2 2 2 2]\n"
          ]
        }
      ]
    },
    {
      "cell_type": "markdown",
      "metadata": {
        "id": "Ddv-hpJRddG_"
      },
      "source": [
        "<h3>Definisikan Model</h3>"
      ]
    },
    {
      "cell_type": "code",
      "metadata": {
        "id": "7-XCMF3FlZlA"
      },
      "source": [
        "import tensorflow"
      ],
      "execution_count": null,
      "outputs": []
    },
    {
      "cell_type": "code",
      "metadata": {
        "id": "LdBwiCejlbwE"
      },
      "source": [
        "y_train = tensorflow.keras.utils.to_categorical(y_train, 4)\n",
        "y_test = tensorflow.keras.utils.to_categorical(y_test, 4)"
      ],
      "execution_count": null,
      "outputs": []
    },
    {
      "cell_type": "code",
      "metadata": {
        "id": "3jE4LKCCldDs"
      },
      "source": [
        "from tensorflow.keras import layers\n",
        "from tensorflow.keras import Model\n",
        "from tensorflow.keras.models import Sequential\n",
        "from tensorflow.keras.layers import InputLayer, Dense, Dropout, Conv2D, MaxPooling2D, GlobalMaxPooling2D, Flatten, BatchNormalization, Activation"
      ],
      "execution_count": null,
      "outputs": []
    },
    {
      "cell_type": "code",
      "metadata": {
        "id": "oJM28v7jlekM"
      },
      "source": [
        "# Buat model dengan 1 input layer, 1 hidden layer, dan 1 output layer\n",
        "img_input = layers.Input(shape=(150, 150, 3)) # layer input\n",
        "x = layers.Flatten()(img_input) # ubah dari matriks 150x150x3 menjadi vektor\n",
        "x = layers.Dense(128, activation='relu')(x) # hidden layer 1 dengan 128 neuron\n",
        "output = layers.Dense(4, activation='softmax')(x) # output layer dengan 1 neuron (binary)\n",
        "\n",
        "# Definisikan modelnya\n",
        "model = Model(img_input, output)"
      ],
      "execution_count": null,
      "outputs": []
    },
    {
      "cell_type": "code",
      "metadata": {
        "colab": {
          "base_uri": "https://localhost:8080/"
        },
        "id": "espRaXkhlgLp",
        "outputId": "a0f07a3c-9ba1-4c0c-d861-176cc923cdae"
      },
      "source": [
        "model.summary()"
      ],
      "execution_count": null,
      "outputs": [
        {
          "output_type": "stream",
          "name": "stdout",
          "text": [
            "Model: \"model\"\n",
            "_________________________________________________________________\n",
            "Layer (type)                 Output Shape              Param #   \n",
            "=================================================================\n",
            "input_1 (InputLayer)         [(None, 150, 150, 3)]     0         \n",
            "_________________________________________________________________\n",
            "flatten (Flatten)            (None, 67500)             0         \n",
            "_________________________________________________________________\n",
            "dense (Dense)                (None, 128)               8640128   \n",
            "_________________________________________________________________\n",
            "dense_1 (Dense)              (None, 4)                 516       \n",
            "=================================================================\n",
            "Total params: 8,640,644\n",
            "Trainable params: 8,640,644\n",
            "Non-trainable params: 0\n",
            "_________________________________________________________________\n"
          ]
        }
      ]
    },
    {
      "cell_type": "code",
      "metadata": {
        "id": "6arFb7Cclhte"
      },
      "source": [
        "import tensorflow as tf\n",
        "from tensorflow.keras import callbacks\n",
        "class myCallback(tf.keras.callbacks.Callback):\n",
        "  def on_epoch_end(self, epoch, logs={}):\n",
        "    if(logs.get('val_acc')> 0.90):\n",
        "      print(\"\\nAkurasi validasi telah mencapai >90%!\")\n",
        "      self.model.stop_training = True\n",
        "\n",
        "\n",
        "callbacks = myCallback()"
      ],
      "execution_count": null,
      "outputs": []
    },
    {
      "cell_type": "code",
      "metadata": {
        "id": "mzn62VnEljo0"
      },
      "source": [
        "from tensorflow.keras.optimizers import Adam\n",
        "\n",
        "# Compile model\n",
        "model.compile(loss='categorical_crossentropy',\n",
        "              optimizer=Adam(learning_rate=0.001),\n",
        "              metrics=['acc'])"
      ],
      "execution_count": null,
      "outputs": []
    },
    {
      "cell_type": "code",
      "metadata": {
        "colab": {
          "base_uri": "https://localhost:8080/"
        },
        "id": "3Kr2MUqDllMY",
        "outputId": "51050fab-beef-4323-a064-1c5c68c4ff31"
      },
      "source": [
        "H = model.fit(x_train, y_train, batch_size=32, epochs=100, validation_data=(x_test, y_test))"
      ],
      "execution_count": null,
      "outputs": [
        {
          "output_type": "stream",
          "name": "stdout",
          "text": [
            "Epoch 1/100\n",
            "90/90 [==============================] - 5s 54ms/step - loss: 0.2193 - acc: 0.9220 - val_loss: 7.0896 - val_acc: 0.6599\n",
            "Epoch 2/100\n",
            "90/90 [==============================] - 5s 53ms/step - loss: 0.3666 - acc: 0.8767 - val_loss: 5.1142 - val_acc: 0.6853\n",
            "Epoch 3/100\n",
            "90/90 [==============================] - 5s 53ms/step - loss: 0.1512 - acc: 0.9495 - val_loss: 5.7383 - val_acc: 0.6904\n",
            "Epoch 4/100\n",
            "90/90 [==============================] - 5s 53ms/step - loss: 0.2394 - acc: 0.9178 - val_loss: 5.7728 - val_acc: 0.6650\n",
            "Epoch 5/100\n",
            "90/90 [==============================] - 5s 53ms/step - loss: 0.2251 - acc: 0.9185 - val_loss: 6.2070 - val_acc: 0.6853\n",
            "Epoch 6/100\n",
            "90/90 [==============================] - 5s 55ms/step - loss: 0.1362 - acc: 0.9481 - val_loss: 7.2976 - val_acc: 0.6827\n",
            "Epoch 7/100\n",
            "90/90 [==============================] - 5s 54ms/step - loss: 0.1194 - acc: 0.9659 - val_loss: 6.5817 - val_acc: 0.7081\n",
            "Epoch 8/100\n",
            "90/90 [==============================] - 5s 55ms/step - loss: 0.0872 - acc: 0.9707 - val_loss: 5.8792 - val_acc: 0.7030\n",
            "Epoch 9/100\n",
            "90/90 [==============================] - 5s 54ms/step - loss: 0.1199 - acc: 0.9585 - val_loss: 5.7347 - val_acc: 0.7081\n",
            "Epoch 10/100\n",
            "90/90 [==============================] - 5s 55ms/step - loss: 0.0813 - acc: 0.9700 - val_loss: 6.5575 - val_acc: 0.7030\n",
            "Epoch 11/100\n",
            "90/90 [==============================] - 5s 57ms/step - loss: 0.0907 - acc: 0.9732 - val_loss: 8.3484 - val_acc: 0.7005\n",
            "Epoch 12/100\n",
            "90/90 [==============================] - 5s 53ms/step - loss: 0.1359 - acc: 0.9502 - val_loss: 6.8970 - val_acc: 0.6244\n",
            "Epoch 13/100\n",
            "90/90 [==============================] - 5s 54ms/step - loss: 0.3758 - acc: 0.8780 - val_loss: 6.4717 - val_acc: 0.6802\n",
            "Epoch 14/100\n",
            "90/90 [==============================] - 5s 53ms/step - loss: 0.0976 - acc: 0.9676 - val_loss: 7.5112 - val_acc: 0.7157\n",
            "Epoch 15/100\n",
            "90/90 [==============================] - 5s 53ms/step - loss: 0.0342 - acc: 0.9927 - val_loss: 7.9592 - val_acc: 0.7259\n",
            "Epoch 16/100\n",
            "90/90 [==============================] - 5s 54ms/step - loss: 0.0248 - acc: 0.9955 - val_loss: 7.3402 - val_acc: 0.7360\n",
            "Epoch 17/100\n",
            "90/90 [==============================] - 5s 55ms/step - loss: 0.0340 - acc: 0.9927 - val_loss: 7.4300 - val_acc: 0.7386\n",
            "Epoch 18/100\n",
            "90/90 [==============================] - 5s 54ms/step - loss: 0.0160 - acc: 0.9990 - val_loss: 7.3151 - val_acc: 0.7462\n",
            "Epoch 19/100\n",
            "90/90 [==============================] - 5s 53ms/step - loss: 0.0138 - acc: 0.9997 - val_loss: 7.3460 - val_acc: 0.7437\n",
            "Epoch 20/100\n",
            "90/90 [==============================] - 5s 53ms/step - loss: 0.0118 - acc: 0.9997 - val_loss: 7.5753 - val_acc: 0.7411\n",
            "Epoch 21/100\n",
            "90/90 [==============================] - 5s 55ms/step - loss: 0.0089 - acc: 1.0000 - val_loss: 7.9577 - val_acc: 0.7360\n",
            "Epoch 22/100\n",
            "90/90 [==============================] - 5s 54ms/step - loss: 0.0077 - acc: 1.0000 - val_loss: 8.0088 - val_acc: 0.7360\n",
            "Epoch 23/100\n",
            "90/90 [==============================] - 5s 55ms/step - loss: 0.0090 - acc: 0.9997 - val_loss: 7.9350 - val_acc: 0.7360\n",
            "Epoch 24/100\n",
            "90/90 [==============================] - 5s 55ms/step - loss: 0.0073 - acc: 1.0000 - val_loss: 8.1038 - val_acc: 0.7386\n",
            "Epoch 25/100\n",
            "90/90 [==============================] - 5s 56ms/step - loss: 0.0064 - acc: 1.0000 - val_loss: 8.0848 - val_acc: 0.7386\n",
            "Epoch 26/100\n",
            "90/90 [==============================] - 5s 55ms/step - loss: 0.0057 - acc: 1.0000 - val_loss: 8.3193 - val_acc: 0.7360\n",
            "Epoch 27/100\n",
            "90/90 [==============================] - 5s 54ms/step - loss: 0.0062 - acc: 1.0000 - val_loss: 8.1375 - val_acc: 0.7386\n",
            "Epoch 28/100\n",
            "90/90 [==============================] - 5s 56ms/step - loss: 0.0050 - acc: 1.0000 - val_loss: 8.1795 - val_acc: 0.7386\n",
            "Epoch 29/100\n",
            "90/90 [==============================] - 5s 56ms/step - loss: 0.0047 - acc: 1.0000 - val_loss: 8.3300 - val_acc: 0.7310\n",
            "Epoch 30/100\n",
            "90/90 [==============================] - 5s 55ms/step - loss: 0.0041 - acc: 1.0000 - val_loss: 8.1520 - val_acc: 0.7386\n",
            "Epoch 31/100\n",
            "90/90 [==============================] - 5s 55ms/step - loss: 0.0047 - acc: 1.0000 - val_loss: 8.6455 - val_acc: 0.7335\n",
            "Epoch 32/100\n",
            "90/90 [==============================] - 5s 53ms/step - loss: 0.0041 - acc: 1.0000 - val_loss: 8.7603 - val_acc: 0.7335\n",
            "Epoch 33/100\n",
            "90/90 [==============================] - 5s 56ms/step - loss: 0.0036 - acc: 1.0000 - val_loss: 8.4428 - val_acc: 0.7360\n",
            "Epoch 34/100\n",
            "90/90 [==============================] - 5s 55ms/step - loss: 0.0033 - acc: 1.0000 - val_loss: 8.5430 - val_acc: 0.7360\n",
            "Epoch 35/100\n",
            "90/90 [==============================] - 5s 53ms/step - loss: 0.0030 - acc: 1.0000 - val_loss: 8.7743 - val_acc: 0.7335\n",
            "Epoch 36/100\n",
            "90/90 [==============================] - 5s 54ms/step - loss: 0.0028 - acc: 1.0000 - val_loss: 8.9478 - val_acc: 0.7335\n",
            "Epoch 37/100\n",
            "90/90 [==============================] - 5s 56ms/step - loss: 0.0028 - acc: 1.0000 - val_loss: 8.7331 - val_acc: 0.7360\n",
            "Epoch 38/100\n",
            "90/90 [==============================] - 5s 58ms/step - loss: 0.0026 - acc: 1.0000 - val_loss: 9.0534 - val_acc: 0.7360\n",
            "Epoch 39/100\n",
            "90/90 [==============================] - 5s 59ms/step - loss: 0.0023 - acc: 1.0000 - val_loss: 8.8414 - val_acc: 0.7360\n",
            "Epoch 40/100\n",
            "90/90 [==============================] - 5s 58ms/step - loss: 0.0022 - acc: 1.0000 - val_loss: 8.8845 - val_acc: 0.7335\n",
            "Epoch 41/100\n",
            "90/90 [==============================] - 5s 56ms/step - loss: 0.0021 - acc: 1.0000 - val_loss: 9.1020 - val_acc: 0.7360\n",
            "Epoch 42/100\n",
            "90/90 [==============================] - 5s 55ms/step - loss: 0.0021 - acc: 1.0000 - val_loss: 9.0012 - val_acc: 0.7360\n",
            "Epoch 43/100\n",
            "90/90 [==============================] - 5s 57ms/step - loss: 0.0019 - acc: 1.0000 - val_loss: 9.0208 - val_acc: 0.7360\n",
            "Epoch 44/100\n",
            "90/90 [==============================] - 5s 56ms/step - loss: 0.0017 - acc: 1.0000 - val_loss: 9.2931 - val_acc: 0.7335\n",
            "Epoch 45/100\n",
            "90/90 [==============================] - 5s 58ms/step - loss: 0.0018 - acc: 1.0000 - val_loss: 9.1444 - val_acc: 0.7360\n",
            "Epoch 46/100\n",
            "90/90 [==============================] - 5s 57ms/step - loss: 0.0016 - acc: 1.0000 - val_loss: 9.0068 - val_acc: 0.7360\n",
            "Epoch 47/100\n",
            "90/90 [==============================] - 5s 57ms/step - loss: 0.0015 - acc: 1.0000 - val_loss: 9.1879 - val_acc: 0.7360\n",
            "Epoch 48/100\n",
            "90/90 [==============================] - 5s 56ms/step - loss: 0.0016 - acc: 1.0000 - val_loss: 9.2754 - val_acc: 0.7360\n",
            "Epoch 49/100\n",
            "90/90 [==============================] - 5s 54ms/step - loss: 0.0014 - acc: 1.0000 - val_loss: 9.4718 - val_acc: 0.7360\n",
            "Epoch 50/100\n",
            "90/90 [==============================] - 5s 55ms/step - loss: 0.0015 - acc: 1.0000 - val_loss: 9.2716 - val_acc: 0.7360\n",
            "Epoch 51/100\n",
            "90/90 [==============================] - 5s 56ms/step - loss: 0.0012 - acc: 1.0000 - val_loss: 9.4426 - val_acc: 0.7360\n",
            "Epoch 52/100\n",
            "90/90 [==============================] - 5s 56ms/step - loss: 0.0012 - acc: 1.0000 - val_loss: 9.4412 - val_acc: 0.7360\n",
            "Epoch 53/100\n",
            "90/90 [==============================] - 5s 56ms/step - loss: 0.0011 - acc: 1.0000 - val_loss: 9.7387 - val_acc: 0.7360\n",
            "Epoch 54/100\n",
            "90/90 [==============================] - 5s 55ms/step - loss: 0.0010 - acc: 1.0000 - val_loss: 9.5945 - val_acc: 0.7360\n",
            "Epoch 55/100\n",
            "90/90 [==============================] - 5s 55ms/step - loss: 0.0010 - acc: 1.0000 - val_loss: 9.5884 - val_acc: 0.7360\n",
            "Epoch 56/100\n",
            "90/90 [==============================] - 5s 56ms/step - loss: 9.6534e-04 - acc: 1.0000 - val_loss: 9.9725 - val_acc: 0.7360\n",
            "Epoch 57/100\n",
            "90/90 [==============================] - 5s 57ms/step - loss: 8.5935e-04 - acc: 1.0000 - val_loss: 10.0524 - val_acc: 0.7360\n",
            "Epoch 58/100\n",
            "90/90 [==============================] - 5s 56ms/step - loss: 8.6507e-04 - acc: 1.0000 - val_loss: 9.9127 - val_acc: 0.7360\n",
            "Epoch 59/100\n",
            "90/90 [==============================] - 5s 56ms/step - loss: 7.8316e-04 - acc: 1.0000 - val_loss: 9.8179 - val_acc: 0.7360\n",
            "Epoch 60/100\n",
            "90/90 [==============================] - 5s 56ms/step - loss: 7.4839e-04 - acc: 1.0000 - val_loss: 10.0118 - val_acc: 0.7360\n",
            "Epoch 61/100\n",
            "90/90 [==============================] - 5s 57ms/step - loss: 7.0138e-04 - acc: 1.0000 - val_loss: 9.7529 - val_acc: 0.7360\n",
            "Epoch 62/100\n",
            "90/90 [==============================] - 5s 55ms/step - loss: 6.7665e-04 - acc: 1.0000 - val_loss: 9.9598 - val_acc: 0.7360\n",
            "Epoch 63/100\n",
            "90/90 [==============================] - 5s 55ms/step - loss: 6.0613e-04 - acc: 1.0000 - val_loss: 9.9897 - val_acc: 0.7360\n",
            "Epoch 64/100\n",
            "90/90 [==============================] - 5s 56ms/step - loss: 6.4512e-04 - acc: 1.0000 - val_loss: 9.8962 - val_acc: 0.7360\n",
            "Epoch 65/100\n",
            "90/90 [==============================] - 5s 54ms/step - loss: 5.8209e-04 - acc: 1.0000 - val_loss: 10.0524 - val_acc: 0.7360\n",
            "Epoch 66/100\n",
            "90/90 [==============================] - 5s 54ms/step - loss: 5.1963e-04 - acc: 1.0000 - val_loss: 10.1084 - val_acc: 0.7360\n",
            "Epoch 67/100\n",
            "90/90 [==============================] - 5s 54ms/step - loss: 5.2146e-04 - acc: 1.0000 - val_loss: 10.1906 - val_acc: 0.7360\n",
            "Epoch 68/100\n",
            "90/90 [==============================] - 5s 54ms/step - loss: 4.7447e-04 - acc: 1.0000 - val_loss: 10.3454 - val_acc: 0.7360\n",
            "Epoch 69/100\n",
            "90/90 [==============================] - 5s 54ms/step - loss: 4.5776e-04 - acc: 1.0000 - val_loss: 10.4256 - val_acc: 0.7360\n",
            "Epoch 70/100\n",
            "90/90 [==============================] - 5s 55ms/step - loss: 4.1875e-04 - acc: 1.0000 - val_loss: 10.3452 - val_acc: 0.7360\n",
            "Epoch 71/100\n",
            "90/90 [==============================] - 5s 56ms/step - loss: 4.0662e-04 - acc: 1.0000 - val_loss: 10.3974 - val_acc: 0.7360\n",
            "Epoch 72/100\n",
            "90/90 [==============================] - 5s 58ms/step - loss: 3.9027e-04 - acc: 1.0000 - val_loss: 10.4171 - val_acc: 0.7360\n",
            "Epoch 73/100\n",
            "90/90 [==============================] - 5s 59ms/step - loss: 4.0763e-04 - acc: 1.0000 - val_loss: 10.3967 - val_acc: 0.7360\n",
            "Epoch 74/100\n",
            "90/90 [==============================] - 6s 66ms/step - loss: 3.3742e-04 - acc: 1.0000 - val_loss: 10.6909 - val_acc: 0.7360\n",
            "Epoch 75/100\n",
            "90/90 [==============================] - 6s 62ms/step - loss: 3.4341e-04 - acc: 1.0000 - val_loss: 10.9186 - val_acc: 0.7360\n",
            "Epoch 76/100\n",
            "90/90 [==============================] - 5s 57ms/step - loss: 3.5688e-04 - acc: 1.0000 - val_loss: 10.7778 - val_acc: 0.7360\n",
            "Epoch 77/100\n",
            "90/90 [==============================] - 5s 56ms/step - loss: 3.2431e-04 - acc: 1.0000 - val_loss: 10.7369 - val_acc: 0.7360\n",
            "Epoch 78/100\n",
            "90/90 [==============================] - 5s 57ms/step - loss: 2.9632e-04 - acc: 1.0000 - val_loss: 10.6938 - val_acc: 0.7360\n",
            "Epoch 79/100\n",
            "90/90 [==============================] - 5s 58ms/step - loss: 2.9062e-04 - acc: 1.0000 - val_loss: 10.7409 - val_acc: 0.7360\n",
            "Epoch 80/100\n",
            "90/90 [==============================] - 5s 56ms/step - loss: 2.5117e-04 - acc: 1.0000 - val_loss: 10.7600 - val_acc: 0.7360\n",
            "Epoch 81/100\n",
            "90/90 [==============================] - 5s 56ms/step - loss: 2.4205e-04 - acc: 1.0000 - val_loss: 10.9484 - val_acc: 0.7360\n",
            "Epoch 82/100\n",
            "90/90 [==============================] - 5s 56ms/step - loss: 2.3086e-04 - acc: 1.0000 - val_loss: 10.9845 - val_acc: 0.7360\n",
            "Epoch 83/100\n",
            "90/90 [==============================] - 5s 55ms/step - loss: 2.0724e-04 - acc: 1.0000 - val_loss: 10.8843 - val_acc: 0.7360\n",
            "Epoch 84/100\n",
            "90/90 [==============================] - 5s 54ms/step - loss: 1.9992e-04 - acc: 1.0000 - val_loss: 11.2528 - val_acc: 0.7360\n",
            "Epoch 85/100\n",
            "90/90 [==============================] - 5s 55ms/step - loss: 1.8954e-04 - acc: 1.0000 - val_loss: 11.1107 - val_acc: 0.7360\n",
            "Epoch 86/100\n",
            "90/90 [==============================] - 5s 56ms/step - loss: 1.7872e-04 - acc: 1.0000 - val_loss: 11.2100 - val_acc: 0.7360\n",
            "Epoch 87/100\n",
            "90/90 [==============================] - 5s 56ms/step - loss: 1.8566e-04 - acc: 1.0000 - val_loss: 11.0459 - val_acc: 0.7360\n",
            "Epoch 88/100\n",
            "90/90 [==============================] - 5s 57ms/step - loss: 1.7981e-04 - acc: 1.0000 - val_loss: 11.2902 - val_acc: 0.7360\n",
            "Epoch 89/100\n",
            "90/90 [==============================] - 5s 56ms/step - loss: 1.8724e-04 - acc: 1.0000 - val_loss: 11.6150 - val_acc: 0.7360\n",
            "Epoch 90/100\n",
            "90/90 [==============================] - 5s 56ms/step - loss: 1.5734e-04 - acc: 1.0000 - val_loss: 11.3047 - val_acc: 0.7360\n",
            "Epoch 91/100\n",
            "90/90 [==============================] - 5s 56ms/step - loss: 1.3647e-04 - acc: 1.0000 - val_loss: 11.4707 - val_acc: 0.7360\n",
            "Epoch 92/100\n",
            "90/90 [==============================] - 5s 56ms/step - loss: 1.3017e-04 - acc: 1.0000 - val_loss: 11.3290 - val_acc: 0.7360\n",
            "Epoch 93/100\n",
            "90/90 [==============================] - 5s 55ms/step - loss: 1.2359e-04 - acc: 1.0000 - val_loss: 11.3894 - val_acc: 0.7360\n",
            "Epoch 94/100\n",
            "90/90 [==============================] - 5s 56ms/step - loss: 1.1950e-04 - acc: 1.0000 - val_loss: 11.4993 - val_acc: 0.7360\n",
            "Epoch 95/100\n",
            "90/90 [==============================] - 5s 57ms/step - loss: 1.1457e-04 - acc: 1.0000 - val_loss: 11.8135 - val_acc: 0.7360\n",
            "Epoch 96/100\n",
            "90/90 [==============================] - 5s 56ms/step - loss: 1.2028e-04 - acc: 1.0000 - val_loss: 11.4647 - val_acc: 0.7360\n",
            "Epoch 97/100\n",
            "90/90 [==============================] - 5s 57ms/step - loss: 1.2583e-04 - acc: 1.0000 - val_loss: 11.8923 - val_acc: 0.7360\n",
            "Epoch 98/100\n",
            "90/90 [==============================] - 5s 58ms/step - loss: 1.0046e-04 - acc: 1.0000 - val_loss: 12.0534 - val_acc: 0.7360\n",
            "Epoch 99/100\n",
            "90/90 [==============================] - 5s 57ms/step - loss: 9.5828e-05 - acc: 1.0000 - val_loss: 11.7595 - val_acc: 0.7360\n",
            "Epoch 100/100\n",
            "90/90 [==============================] - 5s 57ms/step - loss: 8.8406e-05 - acc: 1.0000 - val_loss: 11.8705 - val_acc: 0.7360\n"
          ]
        }
      ]
    },
    {
      "cell_type": "code",
      "metadata": {
        "colab": {
          "base_uri": "https://localhost:8080/",
          "height": 299
        },
        "id": "WgwbAzGylm6Y",
        "outputId": "9a5a6f63-056d-48b3-88a8-e26d50b4d9f9"
      },
      "source": [
        "plt.style.use(\"ggplot\")\n",
        "plt.figure()\n",
        "plt.plot(np.arange(0, 100), H.history[\"loss\"], label=\"train_loss\")\n",
        "plt.plot(np.arange(0, 100), H.history[\"val_loss\"], label=\"val_loss\")\n",
        "plt.title(\"Loss Plot\")\n",
        "plt.xlabel(\"Epoch #\")\n",
        "plt.ylabel(\"Loss\")\n",
        "plt.legend()\n",
        "plt.show()"
      ],
      "execution_count": null,
      "outputs": [
        {
          "output_type": "display_data",
          "data": {
            "image/png": "[encoded data removed]",
            "text/plain": [
              "<Figure size 432x288 with 1 Axes>"
            ]
          },
          "metadata": {}
        }
      ]
    },
    {
      "cell_type": "code",
      "metadata": {
        "colab": {
          "base_uri": "https://localhost:8080/",
          "height": 299
        },
        "id": "IB_P51DntJoz",
        "outputId": "1e27f901-2874-4f85-a547-abc6ba261bc4"
      },
      "source": [
        "plt.style.use(\"ggplot\")\n",
        "plt.figure()\n",
        "plt.plot(np.arange(0, 100), H.history[\"acc\"], label=\"train_acc\")\n",
        "plt.plot(np.arange(0, 100), H.history[\"val_acc\"], label=\"val_acc\")\n",
        "plt.title(\"Accuracy Plot\")\n",
        "plt.xlabel(\"Epoch #\")\n",
        "plt.ylabel(\"Acc\")\n",
        "plt.legend()\n",
        "plt.show()"
      ],
      "execution_count": null,
      "outputs": [
        {
          "output_type": "display_data",
          "data": {
            "image/png": "[encoded data removed]",
            "text/plain": [
              "<Figure size 432x288 with 1 Axes>"
            ]
          },
          "metadata": {}
        }
      ]
    },
    {
      "cell_type": "code",
      "metadata": {
        "colab": {
          "base_uri": "https://localhost:8080/"
        },
        "id": "yV6dWaWutLaR",
        "outputId": "1ee2e260-15a4-4678-dc4f-9ba3b9ebf787"
      },
      "source": [
        "from sklearn.metrics import classification_report\n",
        "\n",
        "pred = model.predict(x_train)\n",
        "labels = (pred > 0.5).astype(np.int)\n",
        "\n",
        "print(classification_report(y_train, labels))"
      ],
      "execution_count": null,
      "outputs": [
        {
          "output_type": "stream",
          "name": "stdout",
          "text": [
            "              precision    recall  f1-score   support\n",
            "\n",
            "           0       1.00      1.00      1.00       826\n",
            "           1       1.00      1.00      1.00       822\n",
            "           2       1.00      1.00      1.00       395\n",
            "           3       1.00      1.00      1.00       827\n",
            "\n",
            "   micro avg       1.00      1.00      1.00      2870\n",
            "   macro avg       1.00      1.00      1.00      2870\n",
            "weighted avg       1.00      1.00      1.00      2870\n",
            " samples avg       1.00      1.00      1.00      2870\n",
            "\n"
          ]
        }
      ]
    }
  ]
}