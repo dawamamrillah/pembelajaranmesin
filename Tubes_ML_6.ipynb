{
  "nbformat": 4,
  "nbformat_minor": 0,
  "metadata": {
    "colab": {
      "name": "Tubes_ML 6.ipynb",
      "provenance": []
    },
    "kernelspec": {
      "name": "python3",
      "display_name": "Python 3"
    }
  },
  "cells": [
    {
      "cell_type": "markdown",
      "metadata": {
        "id": "qWlMf5NpdS95"
      },
      "source": [
        "<h3>Upload Data</h3>"
      ]
    },
    {
      "cell_type": "code",
      "metadata": {
        "id": "G8ou0ROqg-Ku",
        "colab": {
          "base_uri": "https://localhost:8080/"
        },
        "outputId": "a03bd459-95bc-4541-c1c8-f36932e9658c"
      },
      "source": [
        "from google.colab import drive\n",
        "drive.mount('/content/drive')"
      ],
      "execution_count": 1,
      "outputs": [
        {
          "output_type": "stream",
          "name": "stdout",
          "text": [
            "Mounted at /content/drive\n"
          ]
        }
      ]
    },
    {
      "cell_type": "code",
      "metadata": {
        "id": "15adeIveZoh4"
      },
      "source": [
        "import os\n",
        "os.environ['KAGGLE_CONFIG_DIR'] = \"/content/drive/MyDrive/trying\""
      ],
      "execution_count": 2,
      "outputs": []
    },
    {
      "cell_type": "code",
      "metadata": {
        "colab": {
          "base_uri": "https://localhost:8080/"
        },
        "id": "YkxSbpZcaK6-",
        "outputId": "3015b231-3e84-4870-8d56-3a90495494d6"
      },
      "source": [
        "%cd /content/drive/MyDrive/trying\n",
        "!ls -a"
      ],
      "execution_count": 3,
      "outputs": [
        {
          "output_type": "stream",
          "name": "stdout",
          "text": [
            "/content/drive/MyDrive/trying\n",
            " brain-tumor-classification-mri.zip   Testing\t'Tubes ML.ipynb'\n",
            " kaggle.json\t\t\t      Training\n"
          ]
        }
      ]
    },
    {
      "cell_type": "code",
      "metadata": {
        "colab": {
          "base_uri": "https://localhost:8080/"
        },
        "id": "qiL1eIdPhb39",
        "outputId": "38e2efd7-bb21-4d87-a4ed-bc06bff885c0"
      },
      "source": [
        "!kaggle datasets download -d sartajbhuvaji/brain-tumor-classification-mri"
      ],
      "execution_count": null,
      "outputs": [
        {
          "output_type": "stream",
          "name": "stdout",
          "text": [
            "brain-tumor-classification-mri.zip: Skipping, found more recently modified local copy (use --force to force download)\n"
          ]
        }
      ]
    },
    {
      "cell_type": "code",
      "metadata": {
        "id": "XZYMGaZahcWj"
      },
      "source": [
        "import os\n",
        "import zipfile\n",
        "\n",
        "local_zip = 'brain-tumor-classification-mri.zip'\n",
        "zip_ref = zipfile.ZipFile(local_zip, 'r')\n",
        "zip_ref.extractall('/tmp')\n",
        "zip_ref.close()"
      ],
      "execution_count": 4,
      "outputs": []
    },
    {
      "cell_type": "code",
      "metadata": {
        "colab": {
          "base_uri": "https://localhost:8080/"
        },
        "id": "vmt09zMolETc",
        "outputId": "d3b9f5d9-a7e6-4aa1-9628-94b15a14fa33"
      },
      "source": [
        "%cd '/tmp/'\n",
        "!ls -a"
      ],
      "execution_count": 5,
      "outputs": [
        {
          "output_type": "stream",
          "name": "stdout",
          "text": [
            "/tmp\n",
            ".\n",
            "..\n",
            "dap_multiplexer.335d7a0da8a6.root.log.INFO.20211121-143548.49\n",
            "dap_multiplexer.INFO\n",
            "debugger_1odiai4zx1\n",
            "drivefs_ipc.0\n",
            "drivefs_ipc.0_shell\n",
            "initgoogle_syslog_dir.0\n",
            "Testing\n",
            "tmp398qbk9i\n",
            "Training\n"
          ]
        }
      ]
    },
    {
      "cell_type": "code",
      "metadata": {
        "id": "vvDJiBi7hyFg"
      },
      "source": [
        "train_dir = '/tmp/Training'\n",
        "gli_train_dir = train_dir + '/glioma_tumor'\n",
        "men_train_dir = train_dir + '/meningioma_tumor'\n",
        "no_train_dir  = train_dir + '/no_tumor'\n",
        "pit_train_dir = train_dir + '/pituitary_tumor'\n",
        "\n",
        "test_dir = '/tmp/Testing'\n",
        "gli_test_dir = test_dir + '/glioma_tumor'\n",
        "men_test_dir = test_dir + '/meningioma_tumor'\n",
        "no_test_dir  = test_dir + '/no_tumor'\n",
        "pit_test_dir = test_dir + '/pituitary_tumor'"
      ],
      "execution_count": 6,
      "outputs": []
    },
    {
      "cell_type": "code",
      "metadata": {
        "colab": {
          "base_uri": "https://localhost:8080/"
        },
        "id": "HhA9SLSNlJgZ",
        "outputId": "2d361534-fd90-4b7d-ef75-03379a09aa31"
      },
      "source": [
        "print(\"Training\")\n",
        "print(\"Total Training Glioma Tumor     :\", len(os.listdir(gli_train_dir)))\n",
        "print(\"Total Training Meningioma Tumor :\", len(os.listdir(men_train_dir)))\n",
        "print(\"Total Training No Tumor         :\", len(os.listdir(no_train_dir)))\n",
        "print(\"Total Training Pituitary_Tumor  :\", len(os.listdir(pit_train_dir)))\n",
        "print(\"Testing\")\n",
        "print(\"Total Testing Glioma Tumor     :\", len(os.listdir(gli_test_dir)))\n",
        "print(\"Total Testing Meningioma Tumor :\", len(os.listdir(men_test_dir)))\n",
        "print(\"Total Testing No Tumor         :\", len(os.listdir(no_test_dir)))\n",
        "print(\"Total Testing Pituitary_Tumor  :\", len(os.listdir(pit_test_dir)))"
      ],
      "execution_count": 7,
      "outputs": [
        {
          "output_type": "stream",
          "name": "stdout",
          "text": [
            "Training\n",
            "Total Training Glioma Tumor     : 826\n",
            "Total Training Meningioma Tumor : 822\n",
            "Total Training No Tumor         : 395\n",
            "Total Training Pituitary_Tumor  : 827\n",
            "Testing\n",
            "Total Testing Glioma Tumor     : 100\n",
            "Total Testing Meningioma Tumor : 115\n",
            "Total Testing No Tumor         : 105\n",
            "Total Testing Pituitary_Tumor  : 74\n"
          ]
        }
      ]
    },
    {
      "cell_type": "code",
      "metadata": {
        "id": "Yc_nhRQylNwA"
      },
      "source": [
        "import cv2\n",
        "import numpy as np"
      ],
      "execution_count": 8,
      "outputs": []
    },
    {
      "cell_type": "code",
      "metadata": {
        "id": "9gGJQOhLlQGd"
      },
      "source": [
        "def gather_data(data_dir):\n",
        "    dir_data = []\n",
        "    dir_label = []\n",
        "\n",
        "    for dirpath, dirnames, filenames in os.walk(data_dir):\n",
        "        for file in filenames:\n",
        "            if \".jpg\" in file:\n",
        "                imagePath = os.path.join(dirpath, file)\n",
        "                image = cv2.imread(imagePath)\n",
        "                image = cv2.resize(image, (150,150))\n",
        "                dir_data.append(image)\n",
        "                label = imagePath.split(os.path.sep)[-2]\n",
        "                dir_label.append(label)\n",
        "\n",
        "    dir_data = np.array(dir_data)\n",
        "    dir_label = np.array(dir_label)\n",
        "\n",
        "    return dir_data, dir_label"
      ],
      "execution_count": 9,
      "outputs": []
    },
    {
      "cell_type": "markdown",
      "metadata": {
        "id": "D-0PLeKvdHv1"
      },
      "source": [
        "<h3>Data Preprocessing</h3>"
      ]
    },
    {
      "cell_type": "code",
      "metadata": {
        "id": "B-9vAhRPlRhB"
      },
      "source": [
        "train_data, train_label = gather_data(train_dir) # Gather data train\n",
        "test_data, test_label = gather_data(test_dir) # Gather data test"
      ],
      "execution_count": 10,
      "outputs": []
    },
    {
      "cell_type": "code",
      "metadata": {
        "colab": {
          "base_uri": "https://localhost:8080/"
        },
        "id": "iQNvmOKklTPx",
        "outputId": "a75f2c9a-cc5b-4d6e-edf8-23c2501b5b5a"
      },
      "source": [
        "print(\"Train Data  = \", train_data.shape)\n",
        "print(\"Train Label = \", train_label.shape)\n",
        "print(\"Test Data   = \", test_data.shape)\n",
        "print(\"Test Label  = \", test_label.shape)"
      ],
      "execution_count": 11,
      "outputs": [
        {
          "output_type": "stream",
          "name": "stdout",
          "text": [
            "Train Data  =  (2870, 150, 150, 3)\n",
            "Train Label =  (2870,)\n",
            "Test Data   =  (394, 150, 150, 3)\n",
            "Test Label  =  (394,)\n"
          ]
        }
      ]
    },
    {
      "cell_type": "code",
      "metadata": {
        "colab": {
          "base_uri": "https://localhost:8080/"
        },
        "id": "_y-1ABMqlVxt",
        "outputId": "74b43646-75d1-48c8-c8d2-a4204652545a"
      },
      "source": [
        "print(\"Data sebelum di-normalisasi \", test_data[0][0][0])\n",
        "\n",
        "x_test = test_data.astype('float32') / 255.0\n",
        "x_train = train_data.astype('float32') / 255.0\n",
        "print(\"Data setelah di-normalisasi \", x_test[0][0][0])"
      ],
      "execution_count": 12,
      "outputs": [
        {
          "output_type": "stream",
          "name": "stdout",
          "text": [
            "Data sebelum di-normalisasi  [0 0 0]\n",
            "Data setelah di-normalisasi  [0. 0. 0.]\n"
          ]
        }
      ]
    },
    {
      "cell_type": "code",
      "metadata": {
        "colab": {
          "base_uri": "https://localhost:8080/"
        },
        "id": "sjcPv2j_lXst",
        "outputId": "3b033b94-ae15-4216-f210-b4bbe7239be9"
      },
      "source": [
        "from sklearn.preprocessing import LabelEncoder\n",
        "\n",
        "print(\"Label sebelum di-encoder \", train_label[995:1005])\n",
        "\n",
        "lb = LabelEncoder()\n",
        "y_train = lb.fit_transform(train_label)\n",
        "y_test = lb.fit_transform(test_label)\n",
        "\n",
        "print(\"Label setelah di-encoder \", y_train[995:1005])"
      ],
      "execution_count": 13,
      "outputs": [
        {
          "output_type": "stream",
          "name": "stdout",
          "text": [
            "Label sebelum di-encoder  ['meningioma_tumor' 'meningioma_tumor' 'meningioma_tumor'\n",
            " 'meningioma_tumor' 'meningioma_tumor' 'meningioma_tumor'\n",
            " 'meningioma_tumor' 'meningioma_tumor' 'meningioma_tumor'\n",
            " 'meningioma_tumor']\n",
            "Label setelah di-encoder  [1 1 1 1 1 1 1 1 1 1]\n"
          ]
        }
      ]
    },
    {
      "cell_type": "markdown",
      "metadata": {
        "id": "Ddv-hpJRddG_"
      },
      "source": [
        "<h3>Definisikan Model</h3>"
      ]
    },
    {
      "cell_type": "code",
      "metadata": {
        "id": "7-XCMF3FlZlA"
      },
      "source": [
        "import tensorflow"
      ],
      "execution_count": 14,
      "outputs": []
    },
    {
      "cell_type": "code",
      "metadata": {
        "id": "LdBwiCejlbwE"
      },
      "source": [
        "y_train = tensorflow.keras.utils.to_categorical(y_train, 4)\n",
        "y_test = tensorflow.keras.utils.to_categorical(y_test, 4)"
      ],
      "execution_count": 15,
      "outputs": []
    },
    {
      "cell_type": "code",
      "metadata": {
        "id": "3jE4LKCCldDs"
      },
      "source": [
        "from tensorflow.keras import layers\n",
        "from tensorflow.keras import Model\n",
        "from tensorflow.keras.models import Sequential\n",
        "from tensorflow.keras.layers import InputLayer, Dense, Dropout, Conv2D, MaxPooling2D, GlobalMaxPooling2D, Flatten, BatchNormalization, Activation"
      ],
      "execution_count": 16,
      "outputs": []
    },
    {
      "cell_type": "code",
      "metadata": {
        "id": "oJM28v7jlekM"
      },
      "source": [
        "# Buat model dengan 1 input layer, 1 hidden layer, dan 1 output layer\n",
        "img_input = layers.Input(shape=(150, 150, 3)) # layer input\n",
        "x = layers.Flatten()(img_input) # ubah dari matriks 150x150x3 menjadi vektor\n",
        "x = layers.Dense(128, activation='relu')(x) # hidden layer 1 dengan 128 neuron\n",
        "output = layers.Dense(4, activation='softmax')(x) # output layer dengan 1 neuron (binary)\n",
        "\n",
        "# Definisikan modelnya\n",
        "model = Model(img_input, output)"
      ],
      "execution_count": 17,
      "outputs": []
    },
    {
      "cell_type": "code",
      "metadata": {
        "colab": {
          "base_uri": "https://localhost:8080/"
        },
        "id": "espRaXkhlgLp",
        "outputId": "1d4f108c-8c96-4486-c0ea-0bf853748422"
      },
      "source": [
        "model.summary()"
      ],
      "execution_count": 18,
      "outputs": [
        {
          "output_type": "stream",
          "name": "stdout",
          "text": [
            "Model: \"model\"\n",
            "_________________________________________________________________\n",
            " Layer (type)                Output Shape              Param #   \n",
            "=================================================================\n",
            " input_1 (InputLayer)        [(None, 150, 150, 3)]     0         \n",
            "                                                                 \n",
            " flatten (Flatten)           (None, 67500)             0         \n",
            "                                                                 \n",
            " dense (Dense)               (None, 128)               8640128   \n",
            "                                                                 \n",
            " dense_1 (Dense)             (None, 4)                 516       \n",
            "                                                                 \n",
            "=================================================================\n",
            "Total params: 8,640,644\n",
            "Trainable params: 8,640,644\n",
            "Non-trainable params: 0\n",
            "_________________________________________________________________\n"
          ]
        }
      ]
    },
    {
      "cell_type": "code",
      "metadata": {
        "id": "6arFb7Cclhte"
      },
      "source": [
        "import tensorflow as tf\n",
        "from tensorflow.keras import callbacks\n",
        "class myCallback(tf.keras.callbacks.Callback):\n",
        "  def on_epoch_end(self, epoch, logs={}):\n",
        "    if(logs.get('val_acc')> 0.90):\n",
        "      print(\"\\nAkurasi validasi telah mencapai >90%!\")\n",
        "      self.model.stop_training = True\n",
        "\n",
        "\n",
        "callbacks = myCallback()"
      ],
      "execution_count": 19,
      "outputs": []
    },
    {
      "cell_type": "code",
      "metadata": {
        "id": "mzn62VnEljo0"
      },
      "source": [
        "from tensorflow.keras.optimizers import Adam\n",
        "\n",
        "# Compile model\n",
        "model.compile(loss='categorical_crossentropy',\n",
        "              optimizer=Adam(learning_rate=0.001),\n",
        "              metrics=['acc'])"
      ],
      "execution_count": 20,
      "outputs": []
    },
    {
      "cell_type": "code",
      "metadata": {
        "colab": {
          "base_uri": "https://localhost:8080/"
        },
        "id": "3Kr2MUqDllMY",
        "outputId": "3b2b9c3a-2731-40b4-d84e-e13e95ec50fd"
      },
      "source": [
        "H = model.fit(x_train, y_train, batch_size=32, epochs=100, validation_data=(x_test, y_test))"
      ],
      "execution_count": 21,
      "outputs": [
        {
          "output_type": "stream",
          "name": "stdout",
          "text": [
            "Epoch 1/100\n",
            "90/90 [==============================] - 6s 60ms/step - loss: 3.3388 - acc: 0.5164 - val_loss: 2.8476 - val_acc: 0.4848\n",
            "Epoch 2/100\n",
            "90/90 [==============================] - 5s 58ms/step - loss: 0.7307 - acc: 0.7202 - val_loss: 3.4331 - val_acc: 0.4924\n",
            "Epoch 3/100\n",
            "90/90 [==============================] - 5s 58ms/step - loss: 0.8506 - acc: 0.6955 - val_loss: 3.2650 - val_acc: 0.4569\n",
            "Epoch 4/100\n",
            "90/90 [==============================] - 5s 58ms/step - loss: 0.5642 - acc: 0.7843 - val_loss: 2.8848 - val_acc: 0.4315\n",
            "Epoch 5/100\n",
            "90/90 [==============================] - 5s 56ms/step - loss: 0.4751 - acc: 0.8164 - val_loss: 3.1041 - val_acc: 0.5990\n",
            "Epoch 6/100\n",
            "90/90 [==============================] - 5s 57ms/step - loss: 0.4729 - acc: 0.8132 - val_loss: 3.7719 - val_acc: 0.5787\n",
            "Epoch 7/100\n",
            "90/90 [==============================] - 5s 57ms/step - loss: 0.3844 - acc: 0.8530 - val_loss: 4.1553 - val_acc: 0.5736\n",
            "Epoch 8/100\n",
            "90/90 [==============================] - 5s 57ms/step - loss: 0.4402 - acc: 0.8206 - val_loss: 3.2728 - val_acc: 0.6599\n",
            "Epoch 9/100\n",
            "90/90 [==============================] - 5s 57ms/step - loss: 0.3196 - acc: 0.8801 - val_loss: 3.7757 - val_acc: 0.5152\n",
            "Epoch 10/100\n",
            "90/90 [==============================] - 5s 57ms/step - loss: 0.3164 - acc: 0.8791 - val_loss: 3.5308 - val_acc: 0.6650\n",
            "Epoch 11/100\n",
            "90/90 [==============================] - 5s 56ms/step - loss: 0.2497 - acc: 0.9094 - val_loss: 4.0321 - val_acc: 0.5736\n",
            "Epoch 12/100\n",
            "90/90 [==============================] - 5s 57ms/step - loss: 0.1953 - acc: 0.9390 - val_loss: 4.1258 - val_acc: 0.6878\n",
            "Epoch 13/100\n",
            "90/90 [==============================] - 5s 57ms/step - loss: 0.1977 - acc: 0.9359 - val_loss: 4.3827 - val_acc: 0.6853\n",
            "Epoch 14/100\n",
            "90/90 [==============================] - 5s 57ms/step - loss: 0.2281 - acc: 0.9038 - val_loss: 3.7204 - val_acc: 0.6523\n",
            "Epoch 15/100\n",
            "90/90 [==============================] - 5s 57ms/step - loss: 0.1599 - acc: 0.9495 - val_loss: 4.4920 - val_acc: 0.6954\n",
            "Epoch 16/100\n",
            "90/90 [==============================] - 5s 57ms/step - loss: 0.1541 - acc: 0.9505 - val_loss: 4.9761 - val_acc: 0.6701\n",
            "Epoch 17/100\n",
            "90/90 [==============================] - 5s 57ms/step - loss: 0.1329 - acc: 0.9599 - val_loss: 4.6802 - val_acc: 0.7081\n",
            "Epoch 18/100\n",
            "90/90 [==============================] - 5s 57ms/step - loss: 0.1137 - acc: 0.9704 - val_loss: 4.7135 - val_acc: 0.6904\n",
            "Epoch 19/100\n",
            "90/90 [==============================] - 5s 57ms/step - loss: 0.1084 - acc: 0.9620 - val_loss: 4.1483 - val_acc: 0.7157\n",
            "Epoch 20/100\n",
            "90/90 [==============================] - 5s 58ms/step - loss: 0.0832 - acc: 0.9798 - val_loss: 4.7033 - val_acc: 0.7005\n",
            "Epoch 21/100\n",
            "90/90 [==============================] - 5s 58ms/step - loss: 0.1405 - acc: 0.9495 - val_loss: 7.2391 - val_acc: 0.4416\n",
            "Epoch 22/100\n",
            "90/90 [==============================] - 5s 57ms/step - loss: 0.2399 - acc: 0.9174 - val_loss: 4.4740 - val_acc: 0.7157\n",
            "Epoch 23/100\n",
            "90/90 [==============================] - 5s 57ms/step - loss: 0.0678 - acc: 0.9840 - val_loss: 4.9113 - val_acc: 0.7259\n",
            "Epoch 24/100\n",
            "90/90 [==============================] - 5s 57ms/step - loss: 0.0749 - acc: 0.9767 - val_loss: 4.1836 - val_acc: 0.6980\n",
            "Epoch 25/100\n",
            "90/90 [==============================] - 5s 58ms/step - loss: 0.1120 - acc: 0.9578 - val_loss: 5.7427 - val_acc: 0.7284\n",
            "Epoch 26/100\n",
            "90/90 [==============================] - 5s 58ms/step - loss: 0.0490 - acc: 0.9895 - val_loss: 5.9862 - val_acc: 0.7259\n",
            "Epoch 27/100\n",
            "90/90 [==============================] - 5s 59ms/step - loss: 0.1404 - acc: 0.9561 - val_loss: 6.0471 - val_acc: 0.6447\n",
            "Epoch 28/100\n",
            "90/90 [==============================] - 5s 60ms/step - loss: 0.1677 - acc: 0.9394 - val_loss: 6.3649 - val_acc: 0.7005\n",
            "Epoch 29/100\n",
            "90/90 [==============================] - 5s 60ms/step - loss: 0.2000 - acc: 0.9300 - val_loss: 6.5567 - val_acc: 0.7157\n",
            "Epoch 30/100\n",
            "90/90 [==============================] - 5s 58ms/step - loss: 0.2115 - acc: 0.9230 - val_loss: 6.9865 - val_acc: 0.7081\n",
            "Epoch 31/100\n",
            "90/90 [==============================] - 5s 58ms/step - loss: 0.0706 - acc: 0.9777 - val_loss: 6.2839 - val_acc: 0.6929\n",
            "Epoch 32/100\n",
            "90/90 [==============================] - 5s 57ms/step - loss: 0.0410 - acc: 0.9899 - val_loss: 6.8567 - val_acc: 0.7310\n",
            "Epoch 33/100\n",
            "90/90 [==============================] - 5s 57ms/step - loss: 0.0267 - acc: 0.9969 - val_loss: 6.7369 - val_acc: 0.7335\n",
            "Epoch 34/100\n",
            "90/90 [==============================] - 5s 57ms/step - loss: 0.0213 - acc: 0.9965 - val_loss: 7.2304 - val_acc: 0.7335\n",
            "Epoch 35/100\n",
            "90/90 [==============================] - 5s 57ms/step - loss: 0.0227 - acc: 0.9965 - val_loss: 7.2507 - val_acc: 0.7335\n",
            "Epoch 36/100\n",
            "90/90 [==============================] - 5s 57ms/step - loss: 0.0216 - acc: 0.9965 - val_loss: 6.9677 - val_acc: 0.7360\n",
            "Epoch 37/100\n",
            "90/90 [==============================] - 5s 57ms/step - loss: 0.0147 - acc: 0.9993 - val_loss: 7.3173 - val_acc: 0.7335\n",
            "Epoch 38/100\n",
            "90/90 [==============================] - 5s 57ms/step - loss: 0.0121 - acc: 1.0000 - val_loss: 7.3508 - val_acc: 0.7335\n",
            "Epoch 39/100\n",
            "90/90 [==============================] - 5s 57ms/step - loss: 0.0108 - acc: 0.9997 - val_loss: 7.6429 - val_acc: 0.7335\n",
            "Epoch 40/100\n",
            "90/90 [==============================] - 5s 56ms/step - loss: 0.0110 - acc: 0.9997 - val_loss: 7.6383 - val_acc: 0.7335\n",
            "Epoch 41/100\n",
            "90/90 [==============================] - 5s 57ms/step - loss: 0.0117 - acc: 0.9986 - val_loss: 7.7097 - val_acc: 0.7310\n",
            "Epoch 42/100\n",
            "90/90 [==============================] - 5s 57ms/step - loss: 0.0086 - acc: 1.0000 - val_loss: 7.9176 - val_acc: 0.7335\n",
            "Epoch 43/100\n",
            "90/90 [==============================] - 5s 57ms/step - loss: 0.0093 - acc: 0.9993 - val_loss: 8.0676 - val_acc: 0.7335\n",
            "Epoch 44/100\n",
            "90/90 [==============================] - 5s 57ms/step - loss: 0.0061 - acc: 1.0000 - val_loss: 8.2315 - val_acc: 0.7310\n",
            "Epoch 45/100\n",
            "90/90 [==============================] - 5s 57ms/step - loss: 0.0056 - acc: 1.0000 - val_loss: 8.4087 - val_acc: 0.7335\n",
            "Epoch 46/100\n",
            "90/90 [==============================] - 5s 57ms/step - loss: 0.0062 - acc: 1.0000 - val_loss: 8.1114 - val_acc: 0.7335\n",
            "Epoch 47/100\n",
            "90/90 [==============================] - 5s 57ms/step - loss: 0.0063 - acc: 1.0000 - val_loss: 8.2248 - val_acc: 0.7335\n",
            "Epoch 48/100\n",
            "90/90 [==============================] - 5s 57ms/step - loss: 0.0062 - acc: 1.0000 - val_loss: 7.9119 - val_acc: 0.7360\n",
            "Epoch 49/100\n",
            "90/90 [==============================] - 5s 58ms/step - loss: 0.0047 - acc: 1.0000 - val_loss: 8.6333 - val_acc: 0.7335\n",
            "Epoch 50/100\n",
            "90/90 [==============================] - 5s 57ms/step - loss: 0.0064 - acc: 1.0000 - val_loss: 8.8599 - val_acc: 0.7335\n",
            "Epoch 51/100\n",
            "90/90 [==============================] - 5s 57ms/step - loss: 0.0042 - acc: 1.0000 - val_loss: 8.7960 - val_acc: 0.7335\n",
            "Epoch 52/100\n",
            "90/90 [==============================] - 5s 57ms/step - loss: 0.0034 - acc: 1.0000 - val_loss: 8.8185 - val_acc: 0.7335\n",
            "Epoch 53/100\n",
            "90/90 [==============================] - 5s 57ms/step - loss: 0.0035 - acc: 1.0000 - val_loss: 8.9585 - val_acc: 0.7310\n",
            "Epoch 54/100\n",
            "90/90 [==============================] - 5s 58ms/step - loss: 0.0029 - acc: 1.0000 - val_loss: 8.8198 - val_acc: 0.7335\n",
            "Epoch 55/100\n",
            "90/90 [==============================] - 5s 58ms/step - loss: 0.0036 - acc: 1.0000 - val_loss: 9.0937 - val_acc: 0.7335\n",
            "Epoch 56/100\n",
            "90/90 [==============================] - 5s 57ms/step - loss: 0.0031 - acc: 1.0000 - val_loss: 8.6157 - val_acc: 0.7360\n",
            "Epoch 57/100\n",
            "90/90 [==============================] - 5s 58ms/step - loss: 0.0030 - acc: 1.0000 - val_loss: 9.1983 - val_acc: 0.7310\n",
            "Epoch 58/100\n",
            "90/90 [==============================] - 5s 58ms/step - loss: 0.0023 - acc: 1.0000 - val_loss: 9.0984 - val_acc: 0.7335\n",
            "Epoch 59/100\n",
            "90/90 [==============================] - 5s 58ms/step - loss: 0.0022 - acc: 1.0000 - val_loss: 9.0046 - val_acc: 0.7335\n",
            "Epoch 60/100\n",
            "90/90 [==============================] - 5s 58ms/step - loss: 0.0022 - acc: 1.0000 - val_loss: 9.1656 - val_acc: 0.7310\n",
            "Epoch 61/100\n",
            "90/90 [==============================] - 5s 58ms/step - loss: 0.0019 - acc: 1.0000 - val_loss: 9.7598 - val_acc: 0.7310\n",
            "Epoch 62/100\n",
            "90/90 [==============================] - 5s 58ms/step - loss: 0.0020 - acc: 1.0000 - val_loss: 9.4498 - val_acc: 0.7310\n",
            "Epoch 63/100\n",
            "90/90 [==============================] - 5s 57ms/step - loss: 0.0017 - acc: 1.0000 - val_loss: 9.5913 - val_acc: 0.7310\n",
            "Epoch 64/100\n",
            "90/90 [==============================] - 5s 58ms/step - loss: 0.0015 - acc: 1.0000 - val_loss: 9.3975 - val_acc: 0.7310\n",
            "Epoch 65/100\n",
            "90/90 [==============================] - 5s 57ms/step - loss: 0.0014 - acc: 1.0000 - val_loss: 9.3821 - val_acc: 0.7335\n",
            "Epoch 66/100\n",
            "90/90 [==============================] - 5s 58ms/step - loss: 0.0014 - acc: 1.0000 - val_loss: 9.5355 - val_acc: 0.7335\n",
            "Epoch 67/100\n",
            "90/90 [==============================] - 5s 57ms/step - loss: 0.0014 - acc: 1.0000 - val_loss: 9.6931 - val_acc: 0.7310\n",
            "Epoch 68/100\n",
            "90/90 [==============================] - 5s 58ms/step - loss: 0.0013 - acc: 1.0000 - val_loss: 9.5599 - val_acc: 0.7335\n",
            "Epoch 69/100\n",
            "90/90 [==============================] - 5s 58ms/step - loss: 0.0013 - acc: 1.0000 - val_loss: 10.1980 - val_acc: 0.7310\n",
            "Epoch 70/100\n",
            "90/90 [==============================] - 5s 59ms/step - loss: 0.0012 - acc: 1.0000 - val_loss: 9.9481 - val_acc: 0.7310\n",
            "Epoch 71/100\n",
            "90/90 [==============================] - 5s 58ms/step - loss: 0.0011 - acc: 1.0000 - val_loss: 9.8745 - val_acc: 0.7335\n",
            "Epoch 72/100\n",
            "90/90 [==============================] - 5s 58ms/step - loss: 9.7391e-04 - acc: 1.0000 - val_loss: 10.0078 - val_acc: 0.7335\n",
            "Epoch 73/100\n",
            "90/90 [==============================] - 5s 58ms/step - loss: 8.9355e-04 - acc: 1.0000 - val_loss: 9.9787 - val_acc: 0.7310\n",
            "Epoch 74/100\n",
            "90/90 [==============================] - 5s 58ms/step - loss: 8.6468e-04 - acc: 1.0000 - val_loss: 9.9797 - val_acc: 0.7335\n",
            "Epoch 75/100\n",
            "90/90 [==============================] - 5s 58ms/step - loss: 7.9827e-04 - acc: 1.0000 - val_loss: 10.2835 - val_acc: 0.7310\n",
            "Epoch 76/100\n",
            "90/90 [==============================] - 5s 58ms/step - loss: 8.1162e-04 - acc: 1.0000 - val_loss: 9.9522 - val_acc: 0.7360\n",
            "Epoch 77/100\n",
            "90/90 [==============================] - 5s 58ms/step - loss: 9.4523e-04 - acc: 1.0000 - val_loss: 10.4100 - val_acc: 0.7310\n",
            "Epoch 78/100\n",
            "90/90 [==============================] - 5s 59ms/step - loss: 7.1302e-04 - acc: 1.0000 - val_loss: 10.4865 - val_acc: 0.7310\n",
            "Epoch 79/100\n",
            "90/90 [==============================] - 5s 58ms/step - loss: 6.6199e-04 - acc: 1.0000 - val_loss: 10.6134 - val_acc: 0.7310\n",
            "Epoch 80/100\n",
            "90/90 [==============================] - 5s 57ms/step - loss: 6.5905e-04 - acc: 1.0000 - val_loss: 10.3499 - val_acc: 0.7310\n",
            "Epoch 81/100\n",
            "90/90 [==============================] - 5s 58ms/step - loss: 5.9194e-04 - acc: 1.0000 - val_loss: 10.6062 - val_acc: 0.7310\n",
            "Epoch 82/100\n",
            "90/90 [==============================] - 5s 58ms/step - loss: 5.3241e-04 - acc: 1.0000 - val_loss: 10.6273 - val_acc: 0.7310\n",
            "Epoch 83/100\n",
            "90/90 [==============================] - 5s 58ms/step - loss: 5.1086e-04 - acc: 1.0000 - val_loss: 10.7070 - val_acc: 0.7310\n",
            "Epoch 84/100\n",
            "90/90 [==============================] - 5s 59ms/step - loss: 5.2668e-04 - acc: 1.0000 - val_loss: 10.7727 - val_acc: 0.7310\n",
            "Epoch 85/100\n",
            "90/90 [==============================] - 5s 59ms/step - loss: 4.6756e-04 - acc: 1.0000 - val_loss: 10.5731 - val_acc: 0.7335\n",
            "Epoch 86/100\n",
            "90/90 [==============================] - 5s 59ms/step - loss: 4.6331e-04 - acc: 1.0000 - val_loss: 10.7627 - val_acc: 0.7310\n",
            "Epoch 87/100\n",
            "90/90 [==============================] - 5s 58ms/step - loss: 4.2951e-04 - acc: 1.0000 - val_loss: 11.0627 - val_acc: 0.7310\n",
            "Epoch 88/100\n",
            "90/90 [==============================] - 5s 59ms/step - loss: 3.9664e-04 - acc: 1.0000 - val_loss: 10.6419 - val_acc: 0.7335\n",
            "Epoch 89/100\n",
            "90/90 [==============================] - 5s 59ms/step - loss: 4.0771e-04 - acc: 1.0000 - val_loss: 11.3014 - val_acc: 0.7310\n",
            "Epoch 90/100\n",
            "90/90 [==============================] - 5s 58ms/step - loss: 3.9417e-04 - acc: 1.0000 - val_loss: 10.8183 - val_acc: 0.7335\n",
            "Epoch 91/100\n",
            "90/90 [==============================] - 5s 59ms/step - loss: 3.4381e-04 - acc: 1.0000 - val_loss: 10.9470 - val_acc: 0.7310\n",
            "Epoch 92/100\n",
            "90/90 [==============================] - 5s 59ms/step - loss: 3.3752e-04 - acc: 1.0000 - val_loss: 10.9148 - val_acc: 0.7335\n",
            "Epoch 93/100\n",
            "90/90 [==============================] - 5s 58ms/step - loss: 3.0878e-04 - acc: 1.0000 - val_loss: 11.1399 - val_acc: 0.7310\n",
            "Epoch 94/100\n",
            "90/90 [==============================] - 5s 58ms/step - loss: 2.8651e-04 - acc: 1.0000 - val_loss: 11.1506 - val_acc: 0.7310\n",
            "Epoch 95/100\n",
            "90/90 [==============================] - 5s 59ms/step - loss: 2.8133e-04 - acc: 1.0000 - val_loss: 11.3752 - val_acc: 0.7310\n",
            "Epoch 96/100\n",
            "90/90 [==============================] - 5s 58ms/step - loss: 2.6040e-04 - acc: 1.0000 - val_loss: 11.1740 - val_acc: 0.7310\n",
            "Epoch 97/100\n",
            "90/90 [==============================] - 5s 59ms/step - loss: 2.4942e-04 - acc: 1.0000 - val_loss: 11.3035 - val_acc: 0.7335\n",
            "Epoch 98/100\n",
            "90/90 [==============================] - 5s 58ms/step - loss: 2.4037e-04 - acc: 1.0000 - val_loss: 11.6485 - val_acc: 0.7310\n",
            "Epoch 99/100\n",
            "90/90 [==============================] - 5s 58ms/step - loss: 2.2540e-04 - acc: 1.0000 - val_loss: 11.5116 - val_acc: 0.7310\n",
            "Epoch 100/100\n",
            "90/90 [==============================] - 5s 58ms/step - loss: 2.1169e-04 - acc: 1.0000 - val_loss: 11.5641 - val_acc: 0.7310\n"
          ]
        }
      ]
    },
    {
      "cell_type": "code",
      "metadata": {
        "colab": {
          "base_uri": "https://localhost:8080/",
          "height": 299
        },
        "id": "WgwbAzGylm6Y",
        "outputId": "ba2d7695-83b4-41e7-e65f-12bf78952d01"
      },
      "source": [
        "import matplotlib.pyplot as plt\n",
        "plt.style.use(\"ggplot\")\n",
        "plt.figure()\n",
        "plt.plot(np.arange(0, 100), H.history[\"loss\"], label=\"train_loss\")\n",
        "plt.plot(np.arange(0, 100), H.history[\"val_loss\"], label=\"val_loss\")\n",
        "plt.title(\"Loss Plot\")\n",
        "plt.xlabel(\"Epoch #\")\n",
        "plt.ylabel(\"Loss\")\n",
        "plt.legend()\n",
        "plt.show()"
      ],
      "execution_count": 23,
      "outputs": [
        {
          "output_type": "display_data",
          "data": {
            "image/png": "[encoded data removed]",
            "text/plain": [
              "<Figure size 432x288 with 1 Axes>"
            ]
          },
          "metadata": {}
        }
      ]
    },
    {
      "cell_type": "code",
      "metadata": {
        "colab": {
          "base_uri": "https://localhost:8080/",
          "height": 299
        },
        "id": "IB_P51DntJoz",
        "outputId": "27e45246-4b6d-4d76-9a4f-d69673d68ef9"
      },
      "source": [
        "plt.style.use(\"ggplot\")\n",
        "plt.figure()\n",
        "plt.plot(np.arange(0, 100), H.history[\"acc\"], label=\"train_acc\")\n",
        "plt.plot(np.arange(0, 100), H.history[\"val_acc\"], label=\"val_acc\")\n",
        "plt.title(\"Accuracy Plot\")\n",
        "plt.xlabel(\"Epoch #\")\n",
        "plt.ylabel(\"Acc\")\n",
        "plt.legend()\n",
        "plt.show()"
      ],
      "execution_count": 24,
      "outputs": [
        {
          "output_type": "display_data",
          "data": {
            "image/png": "[encoded data removed]",
            "text/plain": [
              "<Figure size 432x288 with 1 Axes>"
            ]
          },
          "metadata": {}
        }
      ]
    },
    {
      "cell_type": "code",
      "metadata": {
        "colab": {
          "base_uri": "https://localhost:8080/"
        },
        "id": "yV6dWaWutLaR",
        "outputId": "2a242e6a-bf06-4f7f-ee8a-5af212db3745"
      },
      "source": [
        "from sklearn.metrics import classification_report\n",
        "\n",
        "pred = model.predict(x_train)\n",
        "labels = (pred > 0.5).astype(np.int)\n",
        "\n",
        "print(classification_report(y_train, labels))"
      ],
      "execution_count": 27,
      "outputs": [
        {
          "output_type": "stream",
          "name": "stdout",
          "text": [
            "              precision    recall  f1-score   support\n",
            "\n",
            "           0       1.00      1.00      1.00       826\n",
            "           1       1.00      1.00      1.00       822\n",
            "           2       1.00      1.00      1.00       395\n",
            "           3       1.00      1.00      1.00       827\n",
            "\n",
            "   micro avg       1.00      1.00      1.00      2870\n",
            "   macro avg       1.00      1.00      1.00      2870\n",
            "weighted avg       1.00      1.00      1.00      2870\n",
            " samples avg       1.00      1.00      1.00      2870\n",
            "\n"
          ]
        }
      ]
    },
    {
      "cell_type": "code",
      "metadata": {
        "colab": {
          "base_uri": "https://localhost:8080/"
        },
        "id": "gDG9jRFc-5-p",
        "outputId": "b0f5774f-2efe-4cce-e7d8-bb2e42c18f5f"
      },
      "source": [
        "import tensorflow as tf\n",
        "model.save('model.h5')\n",
        "new_model = tf.keras.models.load_model('model.h5')\n",
        "\n",
        "# Show the model architecture\n",
        "new_model.summary()"
      ],
      "execution_count": 28,
      "outputs": [
        {
          "output_type": "stream",
          "name": "stdout",
          "text": [
            "Model: \"model\"\n",
            "_________________________________________________________________\n",
            " Layer (type)                Output Shape              Param #   \n",
            "=================================================================\n",
            " input_1 (InputLayer)        [(None, 150, 150, 3)]     0         \n",
            "                                                                 \n",
            " flatten (Flatten)           (None, 67500)             0         \n",
            "                                                                 \n",
            " dense (Dense)               (None, 128)               8640128   \n",
            "                                                                 \n",
            " dense_1 (Dense)             (None, 4)                 516       \n",
            "                                                                 \n",
            "=================================================================\n",
            "Total params: 8,640,644\n",
            "Trainable params: 8,640,644\n",
            "Non-trainable params: 0\n",
            "_________________________________________________________________\n"
          ]
        }
      ]
    },
    {
      "cell_type": "code",
      "metadata": {
        "colab": {
          "base_uri": "https://localhost:8080/",
          "height": 35
        },
        "id": "0ETuceXs_IOk",
        "outputId": "2ab590d0-98ee-484a-ee18-42364b3133bb"
      },
      "source": [
        "plt.savefig(\"tubes6.svg\")"
      ],
      "execution_count": 30,
      "outputs": [
        {
          "output_type": "display_data",
          "data": {
            "text/plain": [
              "<Figure size 432x288 with 0 Axes>"
            ]
          },
          "metadata": {}
        }
      ]
    }
  ]
}